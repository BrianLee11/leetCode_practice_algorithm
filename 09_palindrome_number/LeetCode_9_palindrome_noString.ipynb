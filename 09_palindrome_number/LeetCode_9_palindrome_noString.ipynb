{
  "nbformat": 4,
  "nbformat_minor": 0,
  "metadata": {
    "colab": {
      "provenance": []
    },
    "kernelspec": {
      "name": "python3",
      "display_name": "Python 3"
    },
    "language_info": {
      "name": "python"
    }
  },
  "cells": [
    {
      "cell_type": "markdown",
      "source": [
        "#Question 9 of the LeetCode\n",
        "\n",
        "URL:\n",
        "https://leetcode.com/problems/palindrome-number/description/"
      ],
      "metadata": {
        "id": "Ji7pt6lqUnAs"
      }
    },
    {
      "cell_type": "markdown",
      "source": [
        "Given an integer x, return true if x is a palindrome, and false otherwise."
      ],
      "metadata": {
        "id": "-kb5gCoLVJ6E"
      }
    },
    {
      "cell_type": "markdown",
      "source": [
        "Example 1:\n",
        "\n",
        "Input: x = 121\n",
        "\n",
        "Output: true\n",
        "\n",
        "Explanation: 121 reads as 121 from left to right and from right to left."
      ],
      "metadata": {
        "id": "xZF9OQq0VNN0"
      }
    },
    {
      "cell_type": "markdown",
      "source": [
        "\n",
        "Example 2:\n",
        "\n",
        "Input: x = -121\n",
        "\n",
        "Output: false\n",
        "\n",
        "Explanation: From left to right, it reads -121. From right to left, it becomes 121-. Therefore it is not a palindrome."
      ],
      "metadata": {
        "id": "tZZecQ0rVpJ9"
      }
    },
    {
      "cell_type": "markdown",
      "source": [
        "\n",
        "Example 3:\n",
        "\n",
        "Input: x = 10\n",
        "\n",
        "Output: false\n",
        "\n",
        "Explanation: Reads 01 from right to left. Therefore it is not a palindrome."
      ],
      "metadata": {
        "id": "7icb1UDzVqed"
      }
    },
    {
      "cell_type": "markdown",
      "source": [
        "# Without using string\n",
        "Let's review quotient and remainder in Python."
      ],
      "metadata": {
        "id": "4kJN0gfDcngP"
      }
    },
    {
      "cell_type": "code",
      "source": [
        "121/10"
      ],
      "metadata": {
        "colab": {
          "base_uri": "https://localhost:8080/"
        },
        "id": "gVJyQfvutx94",
        "outputId": "1d799853-3556-4b8f-e162-6e4a7fb60d78"
      },
      "execution_count": 1,
      "outputs": [
        {
          "output_type": "execute_result",
          "data": {
            "text/plain": [
              "12.1"
            ]
          },
          "metadata": {},
          "execution_count": 1
        }
      ]
    },
    {
      "cell_type": "code",
      "source": [
        "quotient = 121//10\n",
        "print(quotient)"
      ],
      "metadata": {
        "colab": {
          "base_uri": "https://localhost:8080/"
        },
        "id": "4HSKaxU3t6CI",
        "outputId": "db749774-3f8c-4559-fdd1-0656125a14bf"
      },
      "execution_count": 4,
      "outputs": [
        {
          "output_type": "stream",
          "name": "stdout",
          "text": [
            "12\n"
          ]
        }
      ]
    },
    {
      "cell_type": "code",
      "source": [
        "remainder = 121 % 10\n",
        "print(remainder)"
      ],
      "metadata": {
        "colab": {
          "base_uri": "https://localhost:8080/"
        },
        "id": "ig5M-CMFt_CB",
        "outputId": "e91a1ccd-1d1f-479a-8f68-3b36a4786c77"
      },
      "execution_count": 5,
      "outputs": [
        {
          "output_type": "stream",
          "name": "stdout",
          "text": [
            "1\n"
          ]
        }
      ]
    },
    {
      "cell_type": "markdown",
      "source": [
        "# Coding\n",
        "Testing purpose\n",
        "\n",
        "Without function"
      ],
      "metadata": {
        "id": "e6yZcZrzxiSp"
      }
    },
    {
      "cell_type": "code",
      "source": [
        "x = 321\n",
        "\n",
        "right_digit = x % 10\n",
        "\n",
        "left_digit = x // 10\n",
        "\n",
        "while left_digit > 10:\n",
        "  left_digit = left_digit // 10\n",
        "\n",
        "print(right_digit)\n",
        "print(left_digit)"
      ],
      "metadata": {
        "colab": {
          "base_uri": "https://localhost:8080/"
        },
        "id": "1jo8ZF8Tuh6a",
        "outputId": "039c0226-3a8b-47bc-e5e7-f84b0cf90c20"
      },
      "execution_count": 8,
      "outputs": [
        {
          "output_type": "stream",
          "name": "stdout",
          "text": [
            "1\n",
            "3\n"
          ]
        }
      ]
    },
    {
      "cell_type": "code",
      "source": [
        "x = 121\n",
        "unit = 1\n",
        "\n",
        "y = x\n",
        "while y // 10 > 0:\n",
        "  unit = unit * 10\n",
        "  y = y // 10\n",
        "\n",
        "print(unit)\n",
        "print(x % unit)\n",
        "print(x % unit // 10)"
      ],
      "metadata": {
        "colab": {
          "base_uri": "https://localhost:8080/"
        },
        "id": "U4JjRrK9yqOQ",
        "outputId": "2dd9172f-49ff-4d08-9b08-e8e8f39fdbbb"
      },
      "execution_count": 16,
      "outputs": [
        {
          "output_type": "stream",
          "name": "stdout",
          "text": [
            "100\n",
            "21\n",
            "2\n"
          ]
        }
      ]
    },
    {
      "cell_type": "code",
      "source": [
        "x = 412321\n",
        "\n",
        "right_digit = x % 10\n",
        "left_digit = x\n",
        "unit = 1\n",
        "\n",
        "while left_digit // 10 > 0:\n",
        "  unit = unit * 10\n",
        "  left_digit = left_digit // 10\n",
        "\n",
        "print(right_digit)\n",
        "print(left_digit)"
      ],
      "metadata": {
        "colab": {
          "base_uri": "https://localhost:8080/"
        },
        "id": "PbL6hVF1vHWb",
        "outputId": "c093968c-07ef-42f0-ca19-a7a320817150"
      },
      "execution_count": 20,
      "outputs": [
        {
          "output_type": "stream",
          "name": "stdout",
          "text": [
            "1\n",
            "4\n"
          ]
        }
      ]
    },
    {
      "cell_type": "markdown",
      "source": [
        "# Coding\n",
        "With function"
      ],
      "metadata": {
        "id": "Ak0ESrPi0hPd"
      }
    },
    {
      "cell_type": "code",
      "source": [
        "# get the right-most digit\n",
        "def getRight(number):\n",
        "  return number % 10\n",
        "\n",
        "# this function has O(1) time complexity"
      ],
      "metadata": {
        "id": "bFT8BXFn0v1D"
      },
      "execution_count": 21,
      "outputs": []
    },
    {
      "cell_type": "code",
      "source": [
        "right = getRight(121)\n",
        "print(right)"
      ],
      "metadata": {
        "colab": {
          "base_uri": "https://localhost:8080/"
        },
        "id": "JS5l-1QW07Uc",
        "outputId": "74611fb7-d005-43ef-cd33-039bc306b4aa"
      },
      "execution_count": 23,
      "outputs": [
        {
          "output_type": "stream",
          "name": "stdout",
          "text": [
            "1\n"
          ]
        }
      ]
    },
    {
      "cell_type": "code",
      "source": [
        "# get the left-most digit\n",
        "def getLeft(number):\n",
        "  unit = 1\n",
        "  left_digit = number\n",
        "\n",
        "  # get the left-most digit\n",
        "  while left_digit // 10 > 0:\n",
        "    unit = unit * 10\n",
        "    left_digit = left_digit // 10\n",
        "\n",
        "  # get middle number\n",
        "  middle = (number % unit) // 10\n",
        "\n",
        "  return left_digit, middle"
      ],
      "metadata": {
        "id": "L2KE9ctI09A7"
      },
      "execution_count": 31,
      "outputs": []
    },
    {
      "cell_type": "code",
      "source": [
        "left_digit, middle = getLeft(13241)\n",
        "print(left_digit)\n",
        "print(middle)"
      ],
      "metadata": {
        "colab": {
          "base_uri": "https://localhost:8080/"
        },
        "id": "LKP24Vsg1l6F",
        "outputId": "a7caaed4-3cc1-42fd-ea23-b6f93f2a3799"
      },
      "execution_count": 34,
      "outputs": [
        {
          "output_type": "stream",
          "name": "stdout",
          "text": [
            "1\n",
            "324\n"
          ]
        }
      ]
    },
    {
      "cell_type": "code",
      "source": [
        "# recurive method\n",
        "def isPalindrome(x):\n",
        "\n",
        "  # check negativity\n",
        "  if x < 0:\n",
        "    return False\n",
        "\n",
        "  # this number is a single digit\n",
        "  if x < 10:\n",
        "    return True\n",
        "\n",
        "  else:\n",
        "    # compare the left-most digit and the right-most digit\n",
        "    left_digit, middle = getLeft(x)\n",
        "    right_digit = getRight(x)\n",
        "\n",
        "    if left_digit != right_digit:\n",
        "      return False\n",
        "    else:\n",
        "      x = middle\n",
        "      return isPalindrome(x)"
      ],
      "metadata": {
        "id": "oLq31A7T1wYV"
      },
      "execution_count": 40,
      "outputs": []
    },
    {
      "cell_type": "code",
      "source": [
        "# testing\n",
        "print(isPalindrome(121))\n",
        "print(isPalindrome(-121))\n",
        "print(isPalindrome(10))"
      ],
      "metadata": {
        "colab": {
          "base_uri": "https://localhost:8080/"
        },
        "id": "iK0vmFql3kfJ",
        "outputId": "5ed8785b-0519-442b-e2f7-d6f820a43d0c"
      },
      "execution_count": 41,
      "outputs": [
        {
          "output_type": "stream",
          "name": "stdout",
          "text": [
            "True\n",
            "False\n",
            "False\n"
          ]
        }
      ]
    },
    {
      "cell_type": "markdown",
      "source": [
        "# Integrate all functions into one\n",
        "Use while, not recursive method"
      ],
      "metadata": {
        "id": "dvNJnKZi4JE7"
      }
    },
    {
      "cell_type": "code",
      "source": [
        "def isPalindrome(x):\n",
        "\n",
        "  def getRight(number):\n",
        "    return number % 10\n",
        "\n",
        "  # get the left-most digit\n",
        "  def getLeft(number):\n",
        "    unit = 1\n",
        "    left_digit = number\n",
        "\n",
        "    # get the left-most digit\n",
        "    while left_digit // 10 > 0:\n",
        "      unit = unit * 10\n",
        "      left_digit = left_digit // 10\n",
        "\n",
        "    # get middle number\n",
        "    middle = (number % unit) // 10\n",
        "\n",
        "    return left_digit, middle\n",
        "\n",
        "  # check negativity\n",
        "  if x < 0:\n",
        "    return False\n",
        "\n",
        "  # recurive\n",
        "  while x >= 10:\n",
        "    # compare the left-most digit and the right-most digit\n",
        "    left_digit, middle = getLeft(x)\n",
        "    right_digit = getRight(x)\n",
        "\n",
        "    if left_digit != right_digit:\n",
        "      return False\n",
        "    else:\n",
        "      x = middle\n",
        "\n",
        "  # this number is a single digit\n",
        "  if x < 10:\n",
        "    return True"
      ],
      "metadata": {
        "id": "d0Ggo79k4GE6"
      },
      "execution_count": 45,
      "outputs": []
    },
    {
      "cell_type": "code",
      "source": [
        "# testing\n",
        "print(isPalindrome(121))\n",
        "print(isPalindrome(-121))\n",
        "print(isPalindrome(10))"
      ],
      "metadata": {
        "colab": {
          "base_uri": "https://localhost:8080/"
        },
        "id": "WlqDrvsT4ZJ5",
        "outputId": "8574afb4-71e3-4188-e9bd-0dd972097ef4"
      },
      "execution_count": 46,
      "outputs": [
        {
          "output_type": "stream",
          "name": "stdout",
          "text": [
            "True\n",
            "False\n",
            "False\n"
          ]
        }
      ]
    },
    {
      "cell_type": "markdown",
      "source": [
        "# Analysis\n",
        "\n",
        "Time complexity:"
      ],
      "metadata": {
        "id": "mGUj3j_nabeC"
      }
    }
  ]
}