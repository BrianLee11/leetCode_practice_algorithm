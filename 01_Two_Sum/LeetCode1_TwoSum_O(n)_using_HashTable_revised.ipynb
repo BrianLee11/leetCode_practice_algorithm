{
  "nbformat": 4,
  "nbformat_minor": 0,
  "metadata": {
    "colab": {
      "provenance": []
    },
    "kernelspec": {
      "name": "python3",
      "display_name": "Python 3"
    },
    "language_info": {
      "name": "python"
    }
  },
  "cells": [
    {
      "cell_type": "markdown",
      "source": [
        "#Question 1 of the LeetCode\n",
        "\n",
        "URL:\n",
        "https://leetcode.com/problems/two-sum/description/"
      ],
      "metadata": {
        "id": "Ji7pt6lqUnAs"
      }
    },
    {
      "cell_type": "markdown",
      "source": [
        "# Submitted to Leetcode"
      ],
      "metadata": {
        "id": "Mha99Q-4w6PJ"
      }
    },
    {
      "cell_type": "code",
      "source": [
        "class Solution(object):\n",
        "    def twoSum(self, nums, target):\n",
        "        \"\"\"\n",
        "        :type nums: List[int]\n",
        "        :type target: int\n",
        "        :rtype: List[int]\n",
        "        \"\"\"\n",
        "        # initialize a hash map: dictionary in Python\n",
        "        seen = {}\n",
        "\n",
        "        for index in range(len(nums)):\n",
        "          if (target - nums[index]) in seen:\n",
        "               return [seen[target - nums[index]], index]\n",
        "          else:\n",
        "               seen[nums[index]] = index\n",
        "        return None"
      ],
      "metadata": {
        "id": "weDGOSZrw--z"
      },
      "execution_count": 1,
      "outputs": []
    },
    {
      "cell_type": "code",
      "source": [
        "# Testing\n",
        "nums = [2,7,11,15]\n",
        "target = 9\n",
        "# output should be: [0, 1]\n",
        "\n",
        "# intialize\n",
        "solution = Solution()\n",
        "\n",
        "solution.twoSum(nums, target)\n",
        "print(solution.twoSum(nums,target))"
      ],
      "metadata": {
        "colab": {
          "base_uri": "https://localhost:8080/"
        },
        "id": "JvRd__0fxF04",
        "outputId": "1fba5042-33a9-4536-d44c-59afb13e1bea"
      },
      "execution_count": 2,
      "outputs": [
        {
          "output_type": "stream",
          "name": "stdout",
          "text": [
            "[0, 1]\n"
          ]
        }
      ]
    },
    {
      "cell_type": "markdown",
      "source": [
        "# Question\n"
      ],
      "metadata": {
        "id": "dM_Z9k6Tw-Dr"
      }
    },
    {
      "cell_type": "markdown",
      "source": [
        "Given an array of integers nums and an integer target, return indices of the two numbers such that they add up to target.\n",
        "\n",
        "You may assume that each input would have exactly one solution, and you may not use the same element twice.\n",
        "\n",
        "You can return the answer in any order."
      ],
      "metadata": {
        "id": "-kb5gCoLVJ6E"
      }
    },
    {
      "cell_type": "markdown",
      "source": [
        "Example 1:\n",
        "\n",
        "Input: nums = [2,7,11,15], target = 9\n",
        "\n",
        "Output: [0,1]\n",
        "\n",
        "Explanation: Because nums[0] + nums[1] == 9, we return [0, 1]."
      ],
      "metadata": {
        "id": "xZF9OQq0VNN0"
      }
    },
    {
      "cell_type": "markdown",
      "source": [
        "\n",
        "Example 2:\n",
        "\n",
        "Input: nums = [3,2,4], target = 6\n",
        "\n",
        "Output: [1,2]"
      ],
      "metadata": {
        "id": "tZZecQ0rVpJ9"
      }
    },
    {
      "cell_type": "markdown",
      "source": [
        "\n",
        "Example 3:\n",
        "\n",
        "Input: nums = [3,3], target = 6\n",
        "\n",
        "Output: [0,1]"
      ],
      "metadata": {
        "id": "7icb1UDzVqed"
      }
    },
    {
      "cell_type": "markdown",
      "source": [
        "# Using hash table\n",
        "In Python, the concept of hash table can be implemented using a dictionary.\n",
        "\n",
        "Let's review the dictionary in Python."
      ],
      "metadata": {
        "id": "4kJN0gfDcngP"
      }
    },
    {
      "cell_type": "code",
      "source": [
        "# dictionary has key-value structure\n",
        "dictionary_example = {'Name': 'Carlos',\n",
        "                      'Address': 'New York',\n",
        "                      'Age': 34,\n",
        "                      'Gender': 'Male'}"
      ],
      "metadata": {
        "id": "-8shEUB-wLp-"
      },
      "execution_count": null,
      "outputs": []
    },
    {
      "cell_type": "code",
      "source": [
        "# to print the value of a key, this is an example\n",
        "print(dictionary_example['Name'])"
      ],
      "metadata": {
        "colab": {
          "base_uri": "https://localhost:8080/"
        },
        "id": "r7EKCUnOxLbP",
        "outputId": "833df6f5-fc5b-4828-866d-aab80d281e38"
      },
      "execution_count": null,
      "outputs": [
        {
          "output_type": "stream",
          "name": "stdout",
          "text": [
            "Carlos\n"
          ]
        }
      ]
    },
    {
      "cell_type": "code",
      "source": [
        "# check if a certain key is in this dictionary\n",
        "if 'Name' in dictionary_example:\n",
        "  print(\"YES\")"
      ],
      "metadata": {
        "colab": {
          "base_uri": "https://localhost:8080/"
        },
        "id": "PL2i0BYYxr7X",
        "outputId": "5d55d992-4e81-4826-efa1-d15435ebc8dc"
      },
      "execution_count": null,
      "outputs": [
        {
          "output_type": "stream",
          "name": "stdout",
          "text": [
            "YES\n"
          ]
        }
      ]
    },
    {
      "cell_type": "code",
      "source": [
        "# print the length of the dictionary\n",
        "print(len(dictionary_example))"
      ],
      "metadata": {
        "colab": {
          "base_uri": "https://localhost:8080/"
        },
        "id": "RmFwDd6ZymrZ",
        "outputId": "1371014f-f882-44f1-a616-d86b023235ed"
      },
      "execution_count": null,
      "outputs": [
        {
          "output_type": "stream",
          "name": "stdout",
          "text": [
            "4\n"
          ]
        }
      ]
    },
    {
      "cell_type": "code",
      "source": [
        "# print only the keys in the dictionary\n",
        "for key in dictionary_example:\n",
        "  print(key)"
      ],
      "metadata": {
        "colab": {
          "base_uri": "https://localhost:8080/"
        },
        "id": "IUMRfGBNx2FJ",
        "outputId": "44746aee-a023-4813-fa2e-57f6a4b798e6"
      },
      "execution_count": null,
      "outputs": [
        {
          "output_type": "stream",
          "name": "stdout",
          "text": [
            "Name\n",
            "Address\n",
            "Age\n",
            "Gender\n"
          ]
        }
      ]
    },
    {
      "cell_type": "code",
      "source": [
        "# print only the values in the dictionary\n",
        "for value in dictionary_example.values():\n",
        "  print(value)"
      ],
      "metadata": {
        "colab": {
          "base_uri": "https://localhost:8080/"
        },
        "id": "5eNTt_aVyfeK",
        "outputId": "9cb39ef8-7789-49a5-e005-568ec7cc898c"
      },
      "execution_count": null,
      "outputs": [
        {
          "output_type": "stream",
          "name": "stdout",
          "text": [
            "Carlos\n",
            "New York\n",
            "34\n",
            "Male\n"
          ]
        }
      ]
    },
    {
      "cell_type": "code",
      "source": [
        "# Add another key-value\n",
        "dictionary_example['Occupation'] = 'Engineer'\n",
        "print(dictionary_example)"
      ],
      "metadata": {
        "colab": {
          "base_uri": "https://localhost:8080/"
        },
        "id": "u1U5HTZRyrfP",
        "outputId": "fbea3b00-0fc7-42d1-afc4-5798277173f2"
      },
      "execution_count": null,
      "outputs": [
        {
          "output_type": "stream",
          "name": "stdout",
          "text": [
            "{'Name': 'Carlos', 'Address': 'New York', 'Age': 34, 'Gender': 'Male', 'Occupation': 'Engineer'}\n"
          ]
        }
      ]
    },
    {
      "cell_type": "markdown",
      "source": [
        "# Coding\n",
        "Without function"
      ],
      "metadata": {
        "id": "e6yZcZrzxiSp"
      }
    },
    {
      "cell_type": "code",
      "source": [
        "# testing\n",
        "# without function\n",
        "nums = [2,7,11,15]\n",
        "target = 9\n",
        "# output: [0, 1]\n",
        "\n",
        "# make a dictionary (a hash table)\n",
        "seen = {}\n",
        "\n",
        "for index in range(len(nums)):\n",
        "  if target - nums[index] in seen:\n",
        "    print([seen[target - nums[index]], index])\n",
        "  else:\n",
        "    # add the number to the hash table\n",
        "    seen[nums[index]] = index"
      ],
      "metadata": {
        "id": "mDTDASJgqi6z",
        "colab": {
          "base_uri": "https://localhost:8080/"
        },
        "outputId": "28457fc9-493c-4b60-f7a6-3436d8e46f06"
      },
      "execution_count": null,
      "outputs": [
        {
          "output_type": "stream",
          "name": "stdout",
          "text": [
            "[0, 1]\n"
          ]
        }
      ]
    },
    {
      "cell_type": "code",
      "source": [
        "# testing with other values\n",
        "# Example 2:\n",
        "# Input: nums = [3,2,4], target = 6\n",
        "# Output: [1,2]\n",
        "\n",
        "nums = [3,2,4]\n",
        "target =  6\n",
        "\n",
        "# make a dictionary (a hash table)\n",
        "seen = {}\n",
        "\n",
        "for index in range(len(nums)):\n",
        "  if target - nums[index] in seen:\n",
        "    print([seen[target - nums[index]], index])\n",
        "  else:\n",
        "    # add the number to the hash table\n",
        "    seen[nums[index]] = index"
      ],
      "metadata": {
        "colab": {
          "base_uri": "https://localhost:8080/"
        },
        "id": "2VFgy7w2y2ba",
        "outputId": "e76a4f03-8519-49b8-f0ae-7c25ccfad733"
      },
      "execution_count": null,
      "outputs": [
        {
          "output_type": "stream",
          "name": "stdout",
          "text": [
            "[1, 2]\n"
          ]
        }
      ]
    },
    {
      "cell_type": "code",
      "source": [
        "# Example 3:\n",
        "# Input: nums = [3,3], target = 6\n",
        "# Output: [0,1]\n",
        "\n",
        "nums = [3,3]\n",
        "target = 6\n",
        "\n",
        "# make a dictionary (a hash table)\n",
        "seen = {}\n",
        "\n",
        "for index in range(len(nums)):\n",
        "  if target - nums[index] in seen:\n",
        "    print(seen[target - nums[index]], index)\n",
        "  else:\n",
        "    seen[nums[index]] = index"
      ],
      "metadata": {
        "id": "5hiOEjTTsJeQ",
        "colab": {
          "base_uri": "https://localhost:8080/"
        },
        "outputId": "51727af0-90cb-40f9-8d68-bc7f492e0131"
      },
      "execution_count": null,
      "outputs": [
        {
          "output_type": "stream",
          "name": "stdout",
          "text": [
            "0 1\n"
          ]
        }
      ]
    },
    {
      "cell_type": "markdown",
      "source": [
        "# Coding\n",
        "With function"
      ],
      "metadata": {
        "id": "Ak0ESrPi0hPd"
      }
    },
    {
      "cell_type": "code",
      "source": [
        "def twoSum(nums, target):\n",
        "  seen = {}\n",
        "\n",
        "  for index in range(len(nums)):\n",
        "    if target - nums[index] in seen:\n",
        "      return [seen[target - nums[index]], index]\n",
        "    else:\n",
        "      seen[nums[index]] = index"
      ],
      "metadata": {
        "id": "dveUBqR70g4E"
      },
      "execution_count": null,
      "outputs": []
    },
    {
      "cell_type": "code",
      "source": [
        "# Example 1\n",
        "twoSum(nums = [2,7,11,15], target = 9)"
      ],
      "metadata": {
        "colab": {
          "base_uri": "https://localhost:8080/"
        },
        "id": "pr8ipdzw2Kf6",
        "outputId": "302645f9-882c-41fd-d110-20f40b25f9d6"
      },
      "execution_count": null,
      "outputs": [
        {
          "output_type": "execute_result",
          "data": {
            "text/plain": [
              "[0, 1]"
            ]
          },
          "metadata": {},
          "execution_count": 47
        }
      ]
    },
    {
      "cell_type": "code",
      "source": [
        "# Example 2\n",
        "twoSum(nums = [3,2,4], target =  6)"
      ],
      "metadata": {
        "colab": {
          "base_uri": "https://localhost:8080/"
        },
        "id": "aGkKC1pG2kBh",
        "outputId": "f4ef5ee3-7782-4a8f-a5a1-a67a934269d7"
      },
      "execution_count": null,
      "outputs": [
        {
          "output_type": "execute_result",
          "data": {
            "text/plain": [
              "[1, 2]"
            ]
          },
          "metadata": {},
          "execution_count": 48
        }
      ]
    },
    {
      "cell_type": "code",
      "source": [
        "# Example 3\n",
        "twoSum(nums = [3,3], target = 6)"
      ],
      "metadata": {
        "colab": {
          "base_uri": "https://localhost:8080/"
        },
        "id": "rNVGVxeu2p4l",
        "outputId": "3e0edfcf-0211-4fba-fb7c-1f51ad3ff192"
      },
      "execution_count": null,
      "outputs": [
        {
          "output_type": "execute_result",
          "data": {
            "text/plain": [
              "[0, 1]"
            ]
          },
          "metadata": {},
          "execution_count": 49
        }
      ]
    },
    {
      "cell_type": "markdown",
      "source": [
        "# Analysis\n",
        "\n",
        "Time complexity: $O(n)$\n",
        "\n",
        "- there is one for loop: this is $O(n)$\n",
        "\n",
        "- searching for the key in the hash table is $O(n)$\n",
        "\n",
        "- adding the key and value to the hash table is also $O(n)$\n",
        "\n",
        "- In overall, the time complexity is $O(n)$"
      ],
      "metadata": {
        "id": "mGUj3j_nabeC"
      }
    },
    {
      "cell_type": "markdown",
      "source": [
        "# Construction in class - for Leetcode submission"
      ],
      "metadata": {
        "id": "YhxZUtqexLlp"
      }
    },
    {
      "cell_type": "code",
      "source": [
        "class Solution(object):\n",
        "    def twoSum(self, nums, target):\n",
        "        \"\"\"\n",
        "        :type nums: List[int]\n",
        "        :type target: int\n",
        "        :rtype: List[int]\n",
        "        \"\"\"\n",
        "        # initialize a hash map: dictionary in Python\n",
        "        seen = {}\n",
        "\n",
        "        for index in range(len(nums)):\n",
        "          if (target - nums[index]) in seen:\n",
        "               return [seen[target - nums[index]], index]\n",
        "          else:\n",
        "               seen[nums[index]] = index\n",
        "        return None"
      ],
      "metadata": {
        "id": "j9et9qX_xO-O"
      },
      "execution_count": 7,
      "outputs": []
    },
    {
      "cell_type": "code",
      "source": [
        "# Testing\n",
        "nums = [2,7,11,15]\n",
        "target = 9\n",
        "# output: [0, 1]\n",
        "\n",
        "# initialize\n",
        "solution = Solution()\n",
        "\n",
        "solution.twoSum(nums, target)\n",
        "print(solution.twoSum(nums,target))"
      ],
      "metadata": {
        "colab": {
          "base_uri": "https://localhost:8080/"
        },
        "id": "7Y5MY2jZyBPo",
        "outputId": "719755e3-0d66-46ff-cdc0-217321149389"
      },
      "execution_count": 8,
      "outputs": [
        {
          "output_type": "stream",
          "name": "stdout",
          "text": [
            "[0, 1]\n"
          ]
        }
      ]
    },
    {
      "cell_type": "code",
      "source": [
        "# Testing with other example\n",
        "nums = [3,2,4]\n",
        "target = 6\n",
        "# Output should be: [1,2]\n",
        "\n",
        "# initialize\n",
        "solution2 = Solution()\n",
        "\n",
        "solution2.twoSum(nums, target)\n",
        "print(solution2.twoSum(nums, target))"
      ],
      "metadata": {
        "colab": {
          "base_uri": "https://localhost:8080/"
        },
        "id": "L4OouuWqyCU8",
        "outputId": "e82cbd6a-426b-4c26-f4ea-a8a6fef06280"
      },
      "execution_count": 11,
      "outputs": [
        {
          "output_type": "stream",
          "name": "stdout",
          "text": [
            "[1, 2]\n"
          ]
        }
      ]
    },
    {
      "cell_type": "code",
      "source": [
        "# Testing with other example\n",
        "nums = [3,3]\n",
        "target = 6\n",
        "# Output should be: [0,1]\n",
        "\n",
        "# initialize\n",
        "solution3 = Solution()\n",
        "\n",
        "solution3.twoSum(nums, target)\n",
        "print(solution3.twoSum(nums, target))"
      ],
      "metadata": {
        "colab": {
          "base_uri": "https://localhost:8080/"
        },
        "id": "ZASGG7ZRyram",
        "outputId": "b396883f-1362-41e4-acba-82b049202221"
      },
      "execution_count": 13,
      "outputs": [
        {
          "output_type": "stream",
          "name": "stdout",
          "text": [
            "[0, 1]\n"
          ]
        }
      ]
    }
  ]
}