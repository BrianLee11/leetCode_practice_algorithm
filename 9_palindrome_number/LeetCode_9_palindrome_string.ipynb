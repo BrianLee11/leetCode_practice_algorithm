{
  "nbformat": 4,
  "nbformat_minor": 0,
  "metadata": {
    "colab": {
      "provenance": []
    },
    "kernelspec": {
      "name": "python3",
      "display_name": "Python 3"
    },
    "language_info": {
      "name": "python"
    }
  },
  "cells": [
    {
      "cell_type": "markdown",
      "source": [
        "#Question 9 of the LeetCode\n",
        "\n",
        "URL:\n",
        "https://leetcode.com/problems/palindrome-number/description/"
      ],
      "metadata": {
        "id": "Ji7pt6lqUnAs"
      }
    },
    {
      "cell_type": "markdown",
      "source": [
        "Given an integer x, return true if x is a palindrome, and false otherwise."
      ],
      "metadata": {
        "id": "-kb5gCoLVJ6E"
      }
    },
    {
      "cell_type": "markdown",
      "source": [
        "Example 1:\n",
        "\n",
        "Input: x = 121\n",
        "\n",
        "Output: true\n",
        "\n",
        "Explanation: 121 reads as 121 from left to right and from right to left."
      ],
      "metadata": {
        "id": "xZF9OQq0VNN0"
      }
    },
    {
      "cell_type": "markdown",
      "source": [
        "\n",
        "Example 2:\n",
        "\n",
        "Input: x = -121\n",
        "\n",
        "Output: false\n",
        "\n",
        "Explanation: From left to right, it reads -121. From right to left, it becomes 121-. Therefore it is not a palindrome."
      ],
      "metadata": {
        "id": "tZZecQ0rVpJ9"
      }
    },
    {
      "cell_type": "markdown",
      "source": [
        "\n",
        "Example 3:\n",
        "\n",
        "Input: x = 10\n",
        "\n",
        "Output: false\n",
        "\n",
        "Explanation: Reads 01 from right to left. Therefore it is not a palindrome."
      ],
      "metadata": {
        "id": "7icb1UDzVqed"
      }
    },
    {
      "cell_type": "markdown",
      "source": [
        "# Using string\n",
        "Let's review the string in Python."
      ],
      "metadata": {
        "id": "4kJN0gfDcngP"
      }
    },
    {
      "cell_type": "code",
      "source": [
        "string = \"hello\"\n",
        "\n",
        "# print a letter in a string\n",
        "print(string[0])\n",
        "print(string[1])\n",
        "print(string[2])\n",
        "print(string[3])\n",
        "print(string[4])"
      ],
      "metadata": {
        "colab": {
          "base_uri": "https://localhost:8080/"
        },
        "id": "JGuxwcQdjlXV",
        "outputId": "b0ed0cf8-97fd-4809-e8f2-a219e0b50564"
      },
      "execution_count": 3,
      "outputs": [
        {
          "output_type": "stream",
          "name": "stdout",
          "text": [
            "h\n",
            "e\n",
            "l\n",
            "l\n",
            "o\n"
          ]
        }
      ]
    },
    {
      "cell_type": "code",
      "source": [
        "# check equality\n",
        "if string[0] == string[1]:\n",
        "  print(\"The same character\")\n",
        "else:\n",
        "  print(\"Not the same character\")\n",
        "\n",
        "if string[2] == string[3]:\n",
        "  print(\"The same character\")\n",
        "else:\n",
        "  print(\"Not the same character\")"
      ],
      "metadata": {
        "colab": {
          "base_uri": "https://localhost:8080/"
        },
        "id": "1JTgoN8rkN01",
        "outputId": "faf1cab1-a120-4dfa-a6be-6a1b0ea5bbcc"
      },
      "execution_count": 4,
      "outputs": [
        {
          "output_type": "stream",
          "name": "stdout",
          "text": [
            "Not the same character\n",
            "The same character\n"
          ]
        }
      ]
    },
    {
      "cell_type": "code",
      "source": [
        "# iterate over the characters\n",
        "for index in range(len(string)):\n",
        "  print(string[index])"
      ],
      "metadata": {
        "colab": {
          "base_uri": "https://localhost:8080/"
        },
        "id": "eYg-RJLylN_Y",
        "outputId": "d9f04f7b-545d-45c9-a10c-176e2022c368"
      },
      "execution_count": 5,
      "outputs": [
        {
          "output_type": "stream",
          "name": "stdout",
          "text": [
            "h\n",
            "e\n",
            "l\n",
            "l\n",
            "o\n"
          ]
        }
      ]
    },
    {
      "cell_type": "code",
      "source": [
        "# tranform a number into a string would be useful\n",
        "number = 121\n",
        "number = str(number)\n",
        "print(number[2])"
      ],
      "metadata": {
        "colab": {
          "base_uri": "https://localhost:8080/"
        },
        "id": "FPesoL5HNTHD",
        "outputId": "504b5c2a-ba52-48d6-aab0-c7dfcae936f9"
      },
      "execution_count": 6,
      "outputs": [
        {
          "output_type": "stream",
          "name": "stdout",
          "text": [
            "1\n"
          ]
        }
      ]
    },
    {
      "cell_type": "markdown",
      "source": [
        "# Coding\n",
        "Testing purpose\n",
        "\n",
        "Without function"
      ],
      "metadata": {
        "id": "e6yZcZrzxiSp"
      }
    },
    {
      "cell_type": "code",
      "source": [
        "# a/b means divide a by b. Result could be a float\n",
        "3/2"
      ],
      "metadata": {
        "colab": {
          "base_uri": "https://localhost:8080/"
        },
        "id": "AjJwCG9rm1lz",
        "outputId": "de989e99-6e97-46fa-d285-429a5a338b5e"
      },
      "execution_count": 10,
      "outputs": [
        {
          "output_type": "execute_result",
          "data": {
            "text/plain": [
              "1.5"
            ]
          },
          "metadata": {},
          "execution_count": 10
        }
      ]
    },
    {
      "cell_type": "code",
      "source": [
        "# a//b means divide a by b. Result is an integer."
      ],
      "metadata": {
        "id": "-R1wcsElm-ZJ"
      },
      "execution_count": null,
      "outputs": []
    },
    {
      "cell_type": "code",
      "source": [
        "3//2"
      ],
      "metadata": {
        "colab": {
          "base_uri": "https://localhost:8080/"
        },
        "id": "lBoZk5BgmuM7",
        "outputId": "2144c1c1-d6d2-4115-8ed6-adae667d5ac9"
      },
      "execution_count": 9,
      "outputs": [
        {
          "output_type": "execute_result",
          "data": {
            "text/plain": [
              "1"
            ]
          },
          "metadata": {},
          "execution_count": 9
        }
      ]
    },
    {
      "cell_type": "code",
      "source": [
        "range(3//2)"
      ],
      "metadata": {
        "colab": {
          "base_uri": "https://localhost:8080/"
        },
        "id": "f03H6QE9nZ6E",
        "outputId": "5fc6f491-96cf-4528-d271-0d19682cfe95"
      },
      "execution_count": 16,
      "outputs": [
        {
          "output_type": "execute_result",
          "data": {
            "text/plain": [
              "range(0, 1)"
            ]
          },
          "metadata": {},
          "execution_count": 16
        }
      ]
    },
    {
      "cell_type": "code",
      "source": [
        "for number in range(3//2):\n",
        "  print(number)"
      ],
      "metadata": {
        "colab": {
          "base_uri": "https://localhost:8080/"
        },
        "id": "glyNPiXerDD1",
        "outputId": "95a866e3-0fe8-457b-9fee-dcec2ef6067d"
      },
      "execution_count": 44,
      "outputs": [
        {
          "output_type": "stream",
          "name": "stdout",
          "text": [
            "0\n"
          ]
        }
      ]
    },
    {
      "cell_type": "code",
      "source": [
        "range(3//2 + 1)"
      ],
      "metadata": {
        "colab": {
          "base_uri": "https://localhost:8080/"
        },
        "id": "jAYj6CHqq-is",
        "outputId": "f3cf4d0d-c338-43b4-ef11-3aee624ca976"
      },
      "execution_count": 43,
      "outputs": [
        {
          "output_type": "execute_result",
          "data": {
            "text/plain": [
              "range(0, 2)"
            ]
          },
          "metadata": {},
          "execution_count": 43
        }
      ]
    },
    {
      "cell_type": "code",
      "source": [
        "for number in range(3//2 + 1):\n",
        "  print(number)"
      ],
      "metadata": {
        "colab": {
          "base_uri": "https://localhost:8080/"
        },
        "id": "ou10P84VrH6l",
        "outputId": "c347acfc-57df-42d6-c859-dbac13997ade"
      },
      "execution_count": 46,
      "outputs": [
        {
          "output_type": "stream",
          "name": "stdout",
          "text": [
            "0\n",
            "1\n"
          ]
        }
      ]
    },
    {
      "cell_type": "code",
      "source": [
        "1 == 3//2"
      ],
      "metadata": {
        "colab": {
          "base_uri": "https://localhost:8080/"
        },
        "id": "sGj8F_WQn5r1",
        "outputId": "d4fe8308-94a9-4c75-bfa4-4e7975102e75"
      },
      "execution_count": 20,
      "outputs": [
        {
          "output_type": "execute_result",
          "data": {
            "text/plain": [
              "True"
            ]
          },
          "metadata": {},
          "execution_count": 20
        }
      ]
    },
    {
      "cell_type": "code",
      "source": [
        "x = -121\n",
        "\n",
        "x = str(x)\n",
        "\n",
        "for index in range(len(x)//2 +1):\n",
        "\n",
        "  # a negative number\n",
        "  if x[0] == '-':\n",
        "    print(\"Not a palindrome number\")\n",
        "    break\n",
        "\n",
        "  # a normal case: check whether the left-most character equals to the right-most character\n",
        "  if x[index] != x[len(x)-1-index]:\n",
        "    print(\"Not a palindrome number\")\n",
        "    break\n",
        "\n",
        "  # reaches the middle character\n",
        "  else:\n",
        "    if index == len(x) //2:\n",
        "      print(\"A palindrome number\")"
      ],
      "metadata": {
        "colab": {
          "base_uri": "https://localhost:8080/"
        },
        "id": "_OnzlClwmIky",
        "outputId": "205ce780-8b9b-4753-c891-8fdef8777304"
      },
      "execution_count": 41,
      "outputs": [
        {
          "output_type": "stream",
          "name": "stdout",
          "text": [
            "Not a palindrome number\n"
          ]
        }
      ]
    },
    {
      "cell_type": "markdown",
      "source": [
        "# Coding\n",
        "With function"
      ],
      "metadata": {
        "id": "Ak0ESrPi0hPd"
      }
    },
    {
      "cell_type": "code",
      "source": [
        "def isPalindrome(x):\n",
        "    \"\"\"\n",
        "    :type x: int\n",
        "    :rtype: bool\n",
        "    \"\"\"\n",
        "\n",
        "    # check for the negative number\n",
        "    if x < 0:\n",
        "      return False\n",
        "\n",
        "    # non-negative number x\n",
        "    # transform integer x to a string x\n",
        "    x = str(x)\n",
        "\n",
        "    for index in range(len(x)//2 +1):\n",
        "      if x[index] != x[len(x)-1-index]:\n",
        "        return False\n",
        "\n",
        "    return True"
      ],
      "metadata": {
        "id": "TL1VH4vXqWYi"
      },
      "execution_count": 47,
      "outputs": []
    },
    {
      "cell_type": "code",
      "source": [
        "# testing\n",
        "isPalindrome(121)"
      ],
      "metadata": {
        "colab": {
          "base_uri": "https://localhost:8080/"
        },
        "id": "qz2tIKJOrdc0",
        "outputId": "81a0cce6-e40b-49f9-d818-16c2db2138f6"
      },
      "execution_count": 48,
      "outputs": [
        {
          "output_type": "execute_result",
          "data": {
            "text/plain": [
              "True"
            ]
          },
          "metadata": {},
          "execution_count": 48
        }
      ]
    },
    {
      "cell_type": "code",
      "source": [
        "# testing\n",
        "isPalindrome(-121)"
      ],
      "metadata": {
        "colab": {
          "base_uri": "https://localhost:8080/"
        },
        "id": "8y-d--2IrfqU",
        "outputId": "e0795e5a-0015-41d6-c7ae-7e15d82d935a"
      },
      "execution_count": 49,
      "outputs": [
        {
          "output_type": "execute_result",
          "data": {
            "text/plain": [
              "False"
            ]
          },
          "metadata": {},
          "execution_count": 49
        }
      ]
    },
    {
      "cell_type": "code",
      "source": [
        "# testing\n",
        "isPalindrome(10)"
      ],
      "metadata": {
        "colab": {
          "base_uri": "https://localhost:8080/"
        },
        "id": "mGGEAu8uri8k",
        "outputId": "222664aa-3341-4979-8d64-c2022beb3dba"
      },
      "execution_count": 50,
      "outputs": [
        {
          "output_type": "execute_result",
          "data": {
            "text/plain": [
              "False"
            ]
          },
          "metadata": {},
          "execution_count": 50
        }
      ]
    },
    {
      "cell_type": "markdown",
      "source": [
        "# Analysis\n",
        "\n",
        "Time complexity: $O(n)$\n",
        "\n",
        "- there is one for loop: this is $O(n)$\n",
        "\n",
        "- transform the integer x to a string is $O(1)$\n",
        "\n",
        "- In overall, the time complexity is $O(n)$"
      ],
      "metadata": {
        "id": "mGUj3j_nabeC"
      }
    }
  ]
}