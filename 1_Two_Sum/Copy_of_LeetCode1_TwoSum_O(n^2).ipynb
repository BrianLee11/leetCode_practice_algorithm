{
  "nbformat": 4,
  "nbformat_minor": 0,
  "metadata": {
    "colab": {
      "provenance": []
    },
    "kernelspec": {
      "name": "python3",
      "display_name": "Python 3"
    },
    "language_info": {
      "name": "python"
    }
  },
  "cells": [
    {
      "cell_type": "markdown",
      "source": [
        "Question 1 of the LeetCode\n",
        "\n",
        "URL:\n",
        "https://leetcode.com/problems/two-sum/description/"
      ],
      "metadata": {
        "id": "Ji7pt6lqUnAs"
      }
    },
    {
      "cell_type": "markdown",
      "source": [
        "Given an array of integers nums and an integer target, return indices of the two numbers such that they add up to target.\n",
        "\n",
        "You may assume that each input would have exactly one solution, and you may not use the same element twice.\n",
        "\n",
        "You can return the answer in any order."
      ],
      "metadata": {
        "id": "-kb5gCoLVJ6E"
      }
    },
    {
      "cell_type": "markdown",
      "source": [
        "**Example 1:**\n",
        "\n",
        "Input: nums = [2,7,11,15], target = 9\n",
        "\n",
        "Output: [0,1]\n",
        "\n",
        "Explanation: Because nums[0] + nums[1] == 9, we return [0, 1]."
      ],
      "metadata": {
        "id": "xZF9OQq0VNN0"
      }
    },
    {
      "cell_type": "markdown",
      "source": [
        "**Example 2:**\n",
        "\n",
        "Input: nums = [3,2,4], target = 6\n",
        "\n",
        "Output: [1,2]"
      ],
      "metadata": {
        "id": "tZZecQ0rVpJ9"
      }
    },
    {
      "cell_type": "markdown",
      "source": [
        "**Example 3:**\n",
        "\n",
        "Input: nums = [3,3], target = 6\n",
        "\n",
        "Output: [0,1]"
      ],
      "metadata": {
        "id": "7icb1UDzVqed"
      }
    },
    {
      "cell_type": "markdown",
      "source": [
        "# Using brute force:\n",
        "find all possible combinations"
      ],
      "metadata": {
        "id": "4kJN0gfDcngP"
      }
    },
    {
      "cell_type": "code",
      "source": [
        "nums = [2,7,11,15]\n",
        "target = 9\n",
        "# output: [0, 1]"
      ],
      "metadata": {
        "id": "mDTDASJgqi6z"
      },
      "execution_count": null,
      "outputs": []
    },
    {
      "cell_type": "code",
      "source": [
        "# testing purpose\n",
        "# without function\n",
        "\n",
        "for index in range(len(nums)):\n",
        "  for index2 in range(index + 1, len(nums)):\n",
        "    if nums[index] + nums[index2] == target:\n",
        "     print([index, index2])"
      ],
      "metadata": {
        "colab": {
          "base_uri": "https://localhost:8080/"
        },
        "id": "I2VbHVvItszx",
        "outputId": "878842c9-73dd-47d8-aca9-0294eccbe8db"
      },
      "execution_count": null,
      "outputs": [
        {
          "output_type": "stream",
          "name": "stdout",
          "text": [
            "[0, 1]\n"
          ]
        }
      ]
    },
    {
      "cell_type": "code",
      "source": [
        "# use two nested loops\n",
        "# function form\n",
        "def twoSum(nums, target):\n",
        "  for index in range(len(nums)):\n",
        "    for index2 in range(index + 1, len(nums)):\n",
        "      if nums[index] + nums[index2] == target:\n",
        "        return [index, index2]"
      ],
      "metadata": {
        "id": "5hiOEjTTsJeQ"
      },
      "execution_count": null,
      "outputs": []
    },
    {
      "cell_type": "code",
      "source": [
        "# test example 1: nums=[2,7,11,15], target = 9\n",
        "# output should be [0,1]\n",
        "twoSum(nums = [2,7,11,15], target = 9)"
      ],
      "metadata": {
        "colab": {
          "base_uri": "https://localhost:8080/"
        },
        "id": "SdCys2sHs8o8",
        "outputId": "4b85c11f-891c-4a45-fd79-c4dedacb14af"
      },
      "execution_count": null,
      "outputs": [
        {
          "output_type": "execute_result",
          "data": {
            "text/plain": [
              "[0, 1]"
            ]
          },
          "metadata": {},
          "execution_count": 21
        }
      ]
    },
    {
      "cell_type": "code",
      "source": [
        "# test example 2: nums=[3,2,4], target = 6\n",
        "# output should be [1,2]\n",
        "twoSum(nums = [3,2,4], target = 6)"
      ],
      "metadata": {
        "colab": {
          "base_uri": "https://localhost:8080/"
        },
        "id": "fuTVmVDGtVa0",
        "outputId": "51b59c4b-381e-4ca5-e492-69062b452ea8"
      },
      "execution_count": null,
      "outputs": [
        {
          "output_type": "execute_result",
          "data": {
            "text/plain": [
              "[1, 2]"
            ]
          },
          "metadata": {},
          "execution_count": 22
        }
      ]
    },
    {
      "cell_type": "code",
      "source": [
        "# test example 3: nums=[3,3], target = 6\n",
        "# output should be [0,1]\n",
        "twoSum(nums = [3,3], target = 6)"
      ],
      "metadata": {
        "colab": {
          "base_uri": "https://localhost:8080/"
        },
        "id": "NWZwwA97tana",
        "outputId": "d0e0f26c-2e54-4f3e-dfb9-27d5091a0aea"
      },
      "execution_count": null,
      "outputs": [
        {
          "output_type": "execute_result",
          "data": {
            "text/plain": [
              "[0, 1]"
            ]
          },
          "metadata": {},
          "execution_count": 23
        }
      ]
    },
    {
      "cell_type": "markdown",
      "source": [
        "# Analysis\n",
        "\n",
        "Time complexity: $O(n^2)$ because there are two nested loops."
      ],
      "metadata": {
        "id": "mGUj3j_nabeC"
      }
    },
    {
      "cell_type": "markdown",
      "source": [
        "# Code review\n",
        "1. len(nums) calculates the number of elements in the array nums. Example: len([4,7,13]) = 3\n",
        "\n",
        "2. range(y) would return the sequence of numbers [0, 1, 2, ... , y - 1]. Example: range(5) = [0, 1, 2, 3, 4]. 5 is not included.\n",
        "\n",
        "3. in the second nested loop, range(index + 1, ...) has + 1 because it is convenient to visit the elements starting with the index + 1."
      ],
      "metadata": {
        "id": "57uXiLb6u8Lb"
      }
    }
  ]
}